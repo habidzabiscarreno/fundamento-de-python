{
 "cells": [
  {
   "cell_type": "markdown",
   "metadata": {},
   "source": [
    "####fundamento python\n",
    "variables\n",
    "operadores matematicos\n",
    "operadores logicos \n",
    "operadores de comparacion\n",
    "estrutura de de control \n",
    "condiciones \n",
    "ciclos infinitos;for \n",
    "ciclos infinito:while\n",
    "funciones\n",
    "estruturas de datos\n",
    "cadenas  de carateres:String\n",
    "numero enteros\n",
    "numeros decimales\n",
    "lista \n",
    "dicionarios\n",
    "tuplas\n"
   ]
  },
  {
   "cell_type": "code",
   "execution_count": 1,
   "metadata": {},
   "outputs": [
    {
     "name": "stdout",
     "output_type": "stream",
     "text": [
      "hola mundo\n"
     ]
    }
   ],
   "source": [
    "print(\"hola mundo\")"
   ]
  },
  {
   "cell_type": "code",
   "execution_count": 2,
   "metadata": {},
   "outputs": [],
   "source": [
    "# Variable\n",
    "name = \"juan\"\n",
    "name= \"pedro\"\n",
    "last_name = \"perez\""
   ]
  },
  {
   "cell_type": "code",
   "execution_count": 4,
   "metadata": {},
   "outputs": [],
   "source": [
    "last_name= \"Gomez\""
   ]
  },
  {
   "cell_type": "code",
   "execution_count": null,
   "metadata": {},
   "outputs": [],
   "source": [
    "# Mala practica \n",
    "lastName = \"gomez\""
   ]
  },
  {
   "cell_type": "code",
   "execution_count": 8,
   "metadata": {},
   "outputs": [],
   "source": [
    "last_name = \"gomez\""
   ]
  },
  {
   "cell_type": "code",
   "execution_count": null,
   "metadata": {},
   "outputs": [],
   "source": [
    "NAME = \"juan\"\n",
    "name = \"pedro\""
   ]
  },
  {
   "cell_type": "code",
   "execution_count": 15,
   "metadata": {},
   "outputs": [
    {
     "name": "stdout",
     "output_type": "stream",
     "text": [
      "15\n"
     ]
    }
   ],
   "source": [
    "# operadores matematicos\n",
    "number_1 = 10\n",
    "number_2 = 5\n",
    "\n",
    "result = number_1 + number_2\n",
    "\n",
    "print (result)"
   ]
  },
  {
   "cell_type": "code",
   "execution_count": 16,
   "metadata": {},
   "outputs": [],
   "source": [
    "# suma\n",
    "result = number_1 + number_2"
   ]
  },
  {
   "cell_type": "code",
   "execution_count": 30,
   "metadata": {},
   "outputs": [
    {
     "name": "stdout",
     "output_type": "stream",
     "text": [
      "15\n"
     ]
    }
   ],
   "source": [
    "print(result)"
   ]
  },
  {
   "cell_type": "code",
   "execution_count": 18,
   "metadata": {},
   "outputs": [],
   "source": [
    "# resta\n",
    "result_sub = number_1 - number_2"
   ]
  },
  {
   "cell_type": "code",
   "execution_count": 22,
   "metadata": {},
   "outputs": [
    {
     "data": {
      "text/plain": [
       "int"
      ]
     },
     "execution_count": 22,
     "metadata": {},
     "output_type": "execute_result"
    }
   ],
   "source": [
    "# multiplicacion\n",
    "result_mult = number_1 * number_2\n",
    "\n",
    "# division\n",
    "result_div = number_1 / number_2\n",
    "\n",
    "type(result_sub)"
   ]
  },
  {
   "cell_type": "code",
   "execution_count": 27,
   "metadata": {},
   "outputs": [
    {
     "name": "stdout",
     "output_type": "stream",
     "text": [
      "5\n"
     ]
    }
   ],
   "source": [
    "print(result_sub)"
   ]
  },
  {
   "cell_type": "code",
   "execution_count": 29,
   "metadata": {},
   "outputs": [
    {
     "data": {
      "text/plain": [
       "int"
      ]
     },
     "execution_count": 29,
     "metadata": {},
     "output_type": "execute_result"
    }
   ],
   "source": [
    "type(result_sub)"
   ]
  },
  {
   "cell_type": "code",
   "execution_count": null,
   "metadata": {},
   "outputs": [],
   "source": [
    "# operadores de comparacion\n",
    "# == igual\n",
    "# != diferente\n",
    "# > mayor\n",
    "# < menor\n",
    "# >= mayor o igual\n",
    "# <= menor o igual\n"
   ]
  },
  {
   "cell_type": "code",
   "execution_count": null,
   "metadata": {},
   "outputs": [],
   "source": [
    "# operadores booleanos\n",
    "# true\n",
    "# false"
   ]
  },
  {
   "cell_type": "code",
   "execution_count": null,
   "metadata": {},
   "outputs": [],
   "source": [
    "# ejemplos\n",
    "4 == 4"
   ]
  },
  {
   "cell_type": "code",
   "execution_count": null,
   "metadata": {},
   "outputs": [],
   "source": [
    "number_1 == number_2"
   ]
  },
  {
   "cell_type": "code",
   "execution_count": null,
   "metadata": {},
   "outputs": [],
   "source": [
    "number_1 >= number_2"
   ]
  },
  {
   "cell_type": "code",
   "execution_count": null,
   "metadata": {},
   "outputs": [],
   "source": [
    "number_1 <= number_2"
   ]
  },
  {
   "cell_type": "code",
   "execution_count": 31,
   "metadata": {},
   "outputs": [
    {
     "name": "stdout",
     "output_type": "stream",
     "text": [
      "number_1 es mayor que number_2\n"
     ]
    }
   ],
   "source": [
    "#condicionales\n",
    "if number_1 > number_2:\n",
    "    print(\"number_1 es mayor que number_2\")"
   ]
  },
  {
   "cell_type": "code",
   "execution_count": 32,
   "metadata": {},
   "outputs": [
    {
     "ename": "SyntaxError",
     "evalue": "expected ':' (3443506882.py, line 2)",
     "output_type": "error",
     "traceback": [
      "\u001b[1;36m  Cell \u001b[1;32mIn[32], line 2\u001b[1;36m\u001b[0m\n\u001b[1;33m    if (number_1 > number_2)\u001b[0m\n\u001b[1;37m                            ^\u001b[0m\n\u001b[1;31mSyntaxError\u001b[0m\u001b[1;31m:\u001b[0m expected ':'\n"
     ]
    }
   ],
   "source": [
    "# condicionales\n",
    "if (number_1 > number_2)\n",
    "    print(\"number_1 es mayor que number_2\")"
   ]
  },
  {
   "cell_type": "code",
   "execution_count": 33,
   "metadata": {},
   "outputs": [
    {
     "name": "stdout",
     "output_type": "stream",
     "text": [
      "number_1 es mayor que number_2\n"
     ]
    }
   ],
   "source": [
    "#condicionales\n",
    "if (number_1 > number_2):\n",
    "    print(\"number_1 es mayor que number_2\")"
   ]
  },
  {
   "cell_type": "code",
   "execution_count": 34,
   "metadata": {},
   "outputs": [
    {
     "name": "stdout",
     "output_type": "stream",
     "text": [
      "number_1 es mayor que number_2\n"
     ]
    }
   ],
   "source": [
    "# codicionales\n",
    "if number_1 > number_2:\n",
    "    print(\"number_1 es mayor que number_2\")\n",
    "else:\n",
    "    print(\"number_1 es menor que number_2\")"
   ]
  },
  {
   "cell_type": "code",
   "execution_count": 35,
   "metadata": {},
   "outputs": [
    {
     "ename": "SyntaxError",
     "evalue": "invalid syntax (3270708626.py, line 4)",
     "output_type": "error",
     "traceback": [
      "\u001b[1;36m  Cell \u001b[1;32mIn[35], line 4\u001b[1;36m\u001b[0m\n\u001b[1;33m    else:\u001b[0m\n\u001b[1;37m    ^\u001b[0m\n\u001b[1;31mSyntaxError\u001b[0m\u001b[1;31m:\u001b[0m invalid syntax\n"
     ]
    }
   ],
   "source": [
    "# codicionales\n",
    "if number_1 > number_2:\n",
    "    print(\"number_1 es mayor que number_2\")\n",
    "    else:\n",
    "    print(\"number_1 es menor que number_2\")"
   ]
  },
  {
   "cell_type": "code",
   "execution_count": 10,
   "metadata": {},
   "outputs": [
    {
     "ename": "IndentationError",
     "evalue": "unindent does not match any outer indentation level (<tokenize>, line 4)",
     "output_type": "error",
     "traceback": [
      "\u001b[1;36m  File \u001b[1;32m<tokenize>:4\u001b[1;36m\u001b[0m\n\u001b[1;33m    else:\u001b[0m\n\u001b[1;37m    ^\u001b[0m\n\u001b[1;31mIndentationError\u001b[0m\u001b[1;31m:\u001b[0m unindent does not match any outer indentation level\n"
     ]
    }
   ],
   "source": [
    "# codicionales\n",
    "if number_1 > number_2:\n",
    "    print(\"number_1 es mayor que number_2\")\n",
    "  else:\n",
    "    print(\"number_1 es menor que number_2\")"
   ]
  },
  {
   "cell_type": "code",
   "execution_count": 39,
   "metadata": {},
   "outputs": [
    {
     "name": "stdout",
     "output_type": "stream",
     "text": [
      "number_1 es menor que number_2\n"
     ]
    }
   ],
   "source": [
    "# codicionales\n",
    "numbeer_1 = 20\n",
    "number_2 =  20\n",
    "\n",
    "if number_1 > number_2:\n",
    "    print(\"number_1 es mayor que number_2\")\n",
    "elif number_1 < number_2:\n",
    "    print(\"number_1 es menor que number_2\")\n",
    "else:\n",
    "    print(\" los numeros son iguales\")\n"
   ]
  },
  {
   "cell_type": "code",
   "execution_count": 1,
   "metadata": {},
   "outputs": [
    {
     "name": "stdout",
     "output_type": "stream",
     "text": [
      "number_1 es mayor que number_2 y mayor que 10\n",
      "number_1 es mayor que number_2\n"
     ]
    }
   ],
   "source": [
    "# codicionales\n",
    "number_1 = 20\n",
    "number_2  = 10\n",
    "\n",
    "if number_1 > number_2:\n",
    "    if number_1 > 10:\n",
    "        print(\"number_1 es mayor que number_2 y mayor que 10\")\n",
    "    print(\"number_1 es mayor que number_2\")\n",
    "elif number_1 < number_2:\n",
    "    print(\"number_1 es menor que number_2\")\n",
    "else:\n",
    "    print(\" los numeros son iguales\")\n"
   ]
  },
  {
   "cell_type": "code",
   "execution_count": 52,
   "metadata": {},
   "outputs": [
    {
     "name": "stdout",
     "output_type": "stream",
     "text": [
      "\"20\" es mayor que \"5\" y mayor que 10\n"
     ]
    }
   ],
   "source": [
    "# operadores logicos\n",
    "# and\n",
    "# or\n",
    "# not\n",
    "# coducionales aniadidos\n",
    "number_1 = 20\n",
    "number_2 = 5\n",
    "\n",
    "if (number_1 > number_2) and (number_1 > 10):\n",
    "    print(f'\"{number_1}\" es mayor que \"{number_2}\" y mayor que 10')\n",
    "elif number_1 < number_2:\n",
    "    print(\"number_1 es menor que number_2\")\n",
    "else:\n",
    "    print(\" los numeros son iguales\")"
   ]
  },
  {
   "cell_type": "code",
   "execution_count": 1,
   "metadata": {},
   "outputs": [
    {
     "name": "stdout",
     "output_type": "stream",
     "text": [
      "Bienvenidos al juego de piedra, papel o tijera\n",
      "emily eligió: tijera\n",
      "habi eligió: piedra\n",
      "¡habi gana!\n"
     ]
    }
   ],
   "source": [
    "# Juego de piedra, papel o tijera para dos jugadores\n",
    "print(\"Bienvenidos al juego de piedra, papel o tijera\")\n",
    "\n",
    "# Jugadores ingresan sus nombres\n",
    "jugador1 = input(\"Nombre del Jugador 1: \")\n",
    "jugador2 = input(\"Nombre del Jugador 2: \")\n",
    "\n",
    "# Jugadores eligen su opción\n",
    "opcion1 = input(f\"{jugador1}, elige piedra, papel o tijera: \").lower()\n",
    "opcion2 = input(f\"{jugador2}, elige piedra, papel o tijera: \").lower()\n",
    "\n",
    "# Validar que las opciones sean válidas\n",
    "opciones_validas = [\"piedra\", \"papel\", \"tijera\"]\n",
    "if opcion1 not in opciones_validas or opcion2 not in opciones_validas:\n",
    "    print(\"¡Alguien eligió una opción inválida! Solo se permite: piedra, papel o tijera.\")\n",
    "else:\n",
    "    print(f\"{jugador1} eligió: {opcion1}\")\n",
    "    print(f\"{jugador2} eligió: {opcion2}\")\n",
    "\n",
    "    # Lógica del juego con condicionales\n",
    "    if opcion1 == opcion2:\n",
    "        print(\"¡Empate!\")\n",
    "    elif (opcion1 == \"piedra\" and opcion2 == \"tijera\") or \\\n",
    "    (opcion1 == \"papel\" and opcion2 == \"piedra\") or \\\n",
    "    (opcion1 == \"tijera\" and opcion2 == \"papel\"):\n",
    "        print(f\"¡{jugador1} gana!\")\n",
    "    else:\n",
    "        print(f\"¡{jugador2} gana!\")"
   ]
  },
  {
   "cell_type": "code",
   "execution_count": null,
   "metadata": {},
   "outputs": [],
   "source": []
  },
  {
   "cell_type": "code",
   "execution_count": null,
   "metadata": {},
   "outputs": [],
   "source": [
    "### Estruturas de datos\n",
    "\n",
    "#\n",
    "#list\n",
    "#tuple\n",
    "\n",
    "               # 0       1       2      3\n",
    "               # -4     -3      -2     -1\n",
    "list_names = [\"juan\", \"pedro\", \"maria\", \"laura\", \"jose\"]\n"
   ]
  },
  {
   "cell_type": "code",
   "execution_count": 12,
   "metadata": {},
   "outputs": [
    {
     "data": {
      "text/plain": [
       "'juan'"
      ]
     },
     "execution_count": 12,
     "metadata": {},
     "output_type": "execute_result"
    }
   ],
   "source": [
    "list_names[0]"
   ]
  },
  {
   "cell_type": "code",
   "execution_count": 14,
   "metadata": {},
   "outputs": [
    {
     "data": {
      "text/plain": [
       "'pedro'"
      ]
     },
     "execution_count": 14,
     "metadata": {},
     "output_type": "execute_result"
    }
   ],
   "source": [
    "list_names[1]"
   ]
  },
  {
   "cell_type": "code",
   "execution_count": 15,
   "metadata": {},
   "outputs": [],
   "source": [
    "#list methods \n",
    "#append\n",
    "list_names.append(\"carlos\")"
   ]
  },
  {
   "cell_type": "code",
   "execution_count": 16,
   "metadata": {},
   "outputs": [
    {
     "data": {
      "text/plain": [
       "['juan', 'pedro', 'maria', 'laura', 'carlos']"
      ]
     },
     "execution_count": 16,
     "metadata": {},
     "output_type": "execute_result"
    }
   ],
   "source": [
    "list_names"
   ]
  },
  {
   "cell_type": "code",
   "execution_count": 17,
   "metadata": {},
   "outputs": [
    {
     "data": {
      "text/plain": [
       "'juan'"
      ]
     },
     "execution_count": 17,
     "metadata": {},
     "output_type": "execute_result"
    }
   ],
   "source": [
    "list_names.pop(0)"
   ]
  },
  {
   "cell_type": "code",
   "execution_count": 18,
   "metadata": {},
   "outputs": [
    {
     "data": {
      "text/plain": [
       "['pedro', 'maria', 'laura', 'carlos']"
      ]
     },
     "execution_count": 18,
     "metadata": {},
     "output_type": "execute_result"
    }
   ],
   "source": [
    "list_names  "
   ]
  },
  {
   "cell_type": "code",
   "execution_count": 19,
   "metadata": {},
   "outputs": [
    {
     "data": {
      "text/plain": [
       "4"
      ]
     },
     "execution_count": 19,
     "metadata": {},
     "output_type": "execute_result"
    }
   ],
   "source": [
    "#longitud de la lista\n",
    "len(list_names)"
   ]
  },
  {
   "cell_type": "code",
   "execution_count": 20,
   "metadata": {},
   "outputs": [
    {
     "name": "stdout",
     "output_type": "stream",
     "text": [
      "pedro\n",
      "maria\n",
      "laura\n",
      "carlos\n"
     ]
    }
   ],
   "source": [
    "# ciclo for \n",
    "for name in list_names:\n",
    "    print(name)"
   ]
  },
  {
   "cell_type": "code",
   "execution_count": 45,
   "metadata": {},
   "outputs": [
    {
     "name": "stdout",
     "output_type": "stream",
     "text": [
      "maria esta en la lista\n"
     ]
    }
   ],
   "source": [
    "# ciclo for\n",
    "for name in list_names:\n",
    "    # busca el nombre maria en la lista en minusculas \n",
    "    if name.lower() == \"maria\":\n",
    "        print(\"maria esta en la lista\")\n",
    "        break \n"
   ]
  },
  {
   "cell_type": "code",
   "execution_count": null,
   "metadata": {},
   "outputs": [],
   "source": [
    "# dicionarios \n",
    "# key: value\n",
    "dict_names = {\n",
    "    \"name\": \"juan\",\n",
    "    \"last_name\": \"perez\",\n",
    "    \"age\":[25,42,12]\n",
    "    \n",
    "}"
   ]
  },
  {
   "cell_type": "markdown",
   "metadata": {},
   "source": [
    "funciones "
   ]
  },
  {
   "cell_type": "code",
   "execution_count": 3,
   "metadata": {},
   "outputs": [],
   "source": [
    "# funcion que saluede\n",
    "def saludar():\n",
    "    print(\"hola mundo\")\n"
   ]
  },
  {
   "cell_type": "code",
   "execution_count": 5,
   "metadata": {},
   "outputs": [
    {
     "name": "stdout",
     "output_type": "stream",
     "text": [
      "hola mundo\n"
     ]
    }
   ],
   "source": [
    "saludar()\n"
   ]
  },
  {
   "cell_type": "code",
   "execution_count": 14,
   "metadata": {},
   "outputs": [],
   "source": [
    "# funcion que saluede con retorno\n",
    "def saludar2():\n",
    "    return \"hola mundo\""
   ]
  },
  {
   "cell_type": "code",
   "execution_count": 15,
   "metadata": {},
   "outputs": [
    {
     "data": {
      "text/plain": [
       "'hola mundo'"
      ]
     },
     "execution_count": 15,
     "metadata": {},
     "output_type": "execute_result"
    }
   ],
   "source": [
    "saludar2()"
   ]
  },
  {
   "cell_type": "code",
   "execution_count": 17,
   "metadata": {},
   "outputs": [],
   "source": [
    "# funciones que saluede con retorno para un nonbre \n",
    "def saludar3(name):\n",
    "    return f\"hola {name}\""
   ]
  },
  {
   "cell_type": "code",
   "execution_count": 18,
   "metadata": {},
   "outputs": [
    {
     "data": {
      "text/plain": [
       "'hola juan'"
      ]
     },
     "execution_count": 18,
     "metadata": {},
     "output_type": "execute_result"
    }
   ],
   "source": [
    "saludar3(\"juan\")"
   ]
  },
  {
   "cell_type": "code",
   "execution_count": 19,
   "metadata": {},
   "outputs": [
    {
     "ename": "TypeError",
     "evalue": "saludar3() missing 1 required positional argument: 'name'",
     "output_type": "error",
     "traceback": [
      "\u001b[1;31m---------------------------------------------------------------------------\u001b[0m",
      "\u001b[1;31mTypeError\u001b[0m                                 Traceback (most recent call last)",
      "Cell \u001b[1;32mIn[19], line 1\u001b[0m\n\u001b[1;32m----> 1\u001b[0m \u001b[43msaludar3\u001b[49m\u001b[43m(\u001b[49m\u001b[43m)\u001b[49m\n",
      "\u001b[1;31mTypeError\u001b[0m: saludar3() missing 1 required positional argument: 'name'"
     ]
    }
   ],
   "source": [
    "saludar3()"
   ]
  },
  {
   "cell_type": "code",
   "execution_count": 21,
   "metadata": {},
   "outputs": [],
   "source": [
    "# funciones que saluede con retorno para un nonbre con valor con defecto\n",
    "def saludar3(name=\"fulano de tal\"):\n",
    "    return f\"hola {name}\""
   ]
  },
  {
   "cell_type": "code",
   "execution_count": 22,
   "metadata": {},
   "outputs": [
    {
     "data": {
      "text/plain": [
       "'hola maria antonia'"
      ]
     },
     "execution_count": 22,
     "metadata": {},
     "output_type": "execute_result"
    }
   ],
   "source": [
    "saludar3(\"maria antonia\")"
   ]
  },
  {
   "cell_type": "code",
   "execution_count": null,
   "metadata": {},
   "outputs": [],
   "source": [
    "# funciones que saluede con retorno para un nonbre y apellido con valores con defecto\n",
    "def saludar4(name=\"fulano de tal\", last_name=\"perez\"):\n",
    "    return f\"hola {name} {last_name}\"\n"
   ]
  },
  {
   "cell_type": "code",
   "execution_count": 24,
   "metadata": {},
   "outputs": [
    {
     "data": {
      "text/plain": [
       "'hola maria gomez'"
      ]
     },
     "execution_count": 24,
     "metadata": {},
     "output_type": "execute_result"
    }
   ],
   "source": [
    "saludar4(\"maria\", \"gomez\")"
   ]
  },
  {
   "cell_type": "code",
   "execution_count": 25,
   "metadata": {},
   "outputs": [
    {
     "data": {
      "text/plain": [
       "'hola maria gomez'"
      ]
     },
     "execution_count": 25,
     "metadata": {},
     "output_type": "execute_result"
    }
   ],
   "source": [
    "saludar4(last_name=\"gomez\", name=\"maria\")"
   ]
  },
  {
   "cell_type": "code",
   "execution_count": 28,
   "metadata": {},
   "outputs": [],
   "source": [
    "# funciones documentada saluede con retorno para un nonbre y apellido con valores con defecto\n",
    "def saludar5(name=\"fulano de tal\", last_name=\"perez\"):\n",
    "    \"\"\"\n",
    "    Esta funcion saluda a una persona con nombre y apellido\n",
    "    name: str\n",
    "    last_name: str\n",
    "    return: str\n",
    "    \"\"\"\n",
    "    return f\"hola {name} {last_name}\""
   ]
  },
  {
   "cell_type": "code",
   "execution_count": 29,
   "metadata": {},
   "outputs": [
    {
     "data": {
      "text/plain": [
       "'hola fulano de tal perez'"
      ]
     },
     "execution_count": 29,
     "metadata": {},
     "output_type": "execute_result"
    }
   ],
   "source": [
    "saludar5()"
   ]
  }
 ],
 "metadata": {
  "kernelspec": {
   "display_name": "Python 3",
   "language": "python",
   "name": "python3"
  },
  "language_info": {
   "codemirror_mode": {
    "name": "ipython",
    "version": 3
   },
   "file_extension": ".py",
   "mimetype": "text/x-python",
   "name": "python",
   "nbconvert_exporter": "python",
   "pygments_lexer": "ipython3",
   "version": "3.11.9"
  }
 },
 "nbformat": 4,
 "nbformat_minor": 2
}
